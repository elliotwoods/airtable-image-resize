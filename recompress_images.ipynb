{
 "cells": [
  {
   "cell_type": "markdown",
   "metadata": {},
   "source": [
    "# Instructions\n",
    "\n",
    "1. Install all the requirements with pip\n",
    "2. Setup Cloudinary\n",
    "3. Check the 'Put your keys here' section below\n",
    "4. Create a field that will be used to store compressed images\n",
    "5. Setup the 'Config' section below\n",
    "\n",
    "Notes:\n",
    "\n",
    "* Tested on python 3. You'll need a few extensions\n",
    "* Cloudinary is used as a free cloud resampling and storage service (files must be at a URL for Airtable to use them)\n",
    "* Looks at the field 'Name' for debugging\n",
    "* Compresses from field source_field into field 'Photo (compressed)'\n",
    "* Uses same filenames in general (cloudinary default behaviour)\n",
    "* Starts with some reports about how to \n",
    "\n",
    "Requirements:\n",
    "\n",
    "* pyairtable\n",
    "* seahorn\n",
    "* matplotlib\n",
    "* cloudinary\n",
    "* pillow"
   ]
  },
  {
   "cell_type": "code",
   "execution_count": 2,
   "metadata": {},
   "outputs": [],
   "source": [
    "from pyairtable import Table, utils\n",
    "import urllib3\n",
    "from pathlib import Path\n",
    "from io import BytesIO\n",
    "from PIL import Image\n",
    "import seaborn\n",
    "import math\n",
    "import matplotlib.pyplot as plt\n",
    "import requests\n",
    "import cloudinary\n",
    "import cloudinary.uploader\n",
    "\n",
    "http = urllib3.PoolManager()"
   ]
  },
  {
   "cell_type": "markdown",
   "metadata": {},
   "source": [
    "# Put your keys here:"
   ]
  },
  {
   "cell_type": "code",
   "execution_count": 3,
   "metadata": {},
   "outputs": [
    {
     "data": {
      "text/plain": [
       "<cloudinary.Config at 0x20226586880>"
      ]
     },
     "execution_count": 3,
     "metadata": {},
     "output_type": "execute_result"
    }
   ],
   "source": [
    "airtable_token = \"\"\n",
    "base_id = \"\"\n",
    "\n",
    "cloudinary.config(\n",
    "    cloud_name = \"\",\n",
    "    api_key = \"\",\n",
    "    api_secret = \"\",\n",
    "    secure = \"true\"\n",
    ")"
   ]
  },
  {
   "cell_type": "markdown",
   "metadata": {},
   "source": [
    "# Config"
   ]
  },
  {
   "cell_type": "code",
   "execution_count": 14,
   "metadata": {},
   "outputs": [],
   "source": [
    "table_name = 'Things'\n",
    "source_field = 'Photo'\n",
    "target_field = 'Photo (Compressed)'\n",
    "\n",
    "# this is used for printing the name in debug\n",
    "name_field = 'Name'\n",
    "\n",
    "# should we not perform the conversion if the target_field already has content\n",
    "ignore_when_output_populated = True\n",
    "\n",
    "# default to 2MB\n",
    "max_photo_size = 2 * 1000 * 1000\n",
    "\n",
    "# default to 4096px\n",
    "max_photo_resolution = 4096\n"
   ]
  },
  {
   "cell_type": "code",
   "execution_count": 5,
   "metadata": {},
   "outputs": [],
   "source": [
    "table = Table(airtable_token, base_id, table_name)"
   ]
  },
  {
   "cell_type": "markdown",
   "metadata": {},
   "source": [
    "# Histogram of file sizes"
   ]
  },
  {
   "cell_type": "markdown",
   "metadata": {},
   "source": [
    "## Get file size data"
   ]
  },
  {
   "cell_type": "code",
   "execution_count": 6,
   "metadata": {},
   "outputs": [],
   "source": [
    "file_sizes = []\n",
    "\n",
    "for records in table.iterate():\n",
    "    for row in records:\n",
    "        if source_field in row['fields']:\n",
    "            for photo in row['fields'][source_field]:\n",
    "                file_sizes.append(photo['size'])"
   ]
  },
  {
   "cell_type": "markdown",
   "metadata": {},
   "source": [
    "## Plot histogram"
   ]
  },
  {
   "cell_type": "code",
   "execution_count": 7,
   "metadata": {},
   "outputs": [
    {
     "data": {
      "text/plain": [
       "<AxesSubplot:ylabel='Count'>"
      ]
     },
     "execution_count": 7,
     "metadata": {},
     "output_type": "execute_result"
    },
    {
     "data": {
      "image/png": "[encoded data removed]",
      "text/plain": [
       "<Figure size 432x288 with 1 Axes>"
      ]
     },
     "metadata": {
      "needs_background": "light"
     },
     "output_type": "display_data"
    }
   ],
   "source": [
    "seaborn.histplot(data=file_sizes)"
   ]
  },
  {
   "cell_type": "markdown",
   "metadata": {},
   "source": [
    "## Plot pie chart by file size"
   ]
  },
  {
   "cell_type": "code",
   "execution_count": 8,
   "metadata": {},
   "outputs": [
    {
     "data": {
      "image/png": "[encoded data removed]",
      "text/plain": [
       "<Figure size 432x288 with 1 Axes>"
      ]
     },
     "metadata": {},
     "output_type": "display_data"
    }
   ],
   "source": [
    "plot_file_sizes = {}\n",
    "\n",
    "for file_size in file_sizes:\n",
    "    file_size_mb = math.floor(file_size / 1000000)\n",
    "    key = \"{0} MB\".format(file_size_mb)\n",
    "    if key in plot_file_sizes:\n",
    "        plot_file_sizes[key] = plot_file_sizes[key] + file_size\n",
    "    else:\n",
    "        plot_file_sizes[key] = file_size\n",
    "\n",
    "plot_file_size_keys_sorted = sorted(plot_file_sizes.keys())\n",
    "plot_file_size_values = [plot_file_sizes[x] for x in plot_file_size_keys_sorted]\n",
    "\n",
    "# plot_colors = seaborn.color_palette('pastel')[0:len(plot_file_sizes)]\n",
    "plt.pie(plot_file_size_values, labels = plot_file_size_keys_sorted)\n",
    "plt.show()\n"
   ]
  },
  {
   "cell_type": "markdown",
   "metadata": {},
   "source": [
    "# Function to reduce a single image size\n",
    "\n",
    "## Offline version\n",
    "\n",
    "This is not used"
   ]
  },
  {
   "cell_type": "code",
   "execution_count": 9,
   "metadata": {},
   "outputs": [],
   "source": [
    "def reorient_img(pil_img):\n",
    "    img_exif = pil_img.getexif()\n",
    "\n",
    "    if len(img_exif):\n",
    "        if img_exif[274] == 3:\n",
    "            pil_img = pil_img.transpose(Image.ROTATE_180)\n",
    "        elif img_exif[274] == 6:\n",
    "            pil_img = pil_img.transpose(Image.ROTATE_270)\n",
    "        elif img_exif[274] == 8:\n",
    "            pil_img = pil_img.transpose(Image.ROTATE_90)\n",
    "            \n",
    "    return pil_img"
   ]
  },
  {
   "cell_type": "code",
   "execution_count": 10,
   "metadata": {},
   "outputs": [],
   "source": [
    "def reduce_image_url_locally(original_url):\n",
    "    # load image from url\n",
    "    print('loading, ', end = \"\")\n",
    "    request_original_image = http.request('GET', original_url)\n",
    "    if request_original_image.status != 200:\n",
    "        raise \"Couldn't load original image\"\n",
    "\n",
    "    original_data = BytesIO(request_original_image.data)\n",
    "    image = Image.open(original_data)\n",
    "    \n",
    "    # rotate image if needed\n",
    "    image = reorient_img(image)\n",
    "\n",
    "    # resample resolution if required\n",
    "    if photo['width'] > max_photo_resolution or photo['height'] > max_photo_resolution:\n",
    "        print('resampling, ', end = \"\")\n",
    "        image.thumbnail((max_photo_resolution, max_photo_resolution), Image.ANTIALIAS)\n",
    "\n",
    "    # save until file size is small\n",
    "    original_filename = Path(photo['filename'])\n",
    "    temp_filepath = str(original_filename.with_suffix('')) + \" (compressed).jpg\"\n",
    "    small_enough = False\n",
    "    quality = 100\n",
    "    while not small_enough:\n",
    "        print('saving, ', end = \"\")\n",
    "        quality = quality - 5\n",
    "        image.save(temp_filepath, quality=quality)\n",
    "        new_file_size = os.path.getsize(temp_filepath)\n",
    "        if new_file_size < photo['size'] and new_file_size < max_photo_size:\n",
    "            small_enough = True\n",
    "\n",
    "    # upload to temporary storage\n",
    "    \n",
    "    with open(temp_filepath, 'rb') as file:\n",
    "        print('uploading, ', end = \"\")\n",
    "        upload_request = requests.post('https://tmp.ninja/upload.php', files={'files[]': file})\n",
    "        if upload_request.status_code != 200:\n",
    "            raise \"Failed to upload converted image\"\n",
    "\n",
    "        if not upload_request.json()['success']:\n",
    "            raise \"Failed to upload converted image\"\n",
    "    \n",
    "    print(temp_filepath)\n",
    "    \n",
    "    return upload_request.json()['files'][0]['url'], temp_filepath"
   ]
  },
  {
   "cell_type": "markdown",
   "metadata": {},
   "source": [
    "## Single image transform using Cloudinary"
   ]
  },
  {
   "cell_type": "code",
   "execution_count": 11,
   "metadata": {},
   "outputs": [],
   "source": [
    "def reduce_image_size_cloudinary(photo):\n",
    "    transformation = None\n",
    "\n",
    "    if photo['width'] > max_photo_resolution or photo['height'] > max_photo_resolution:\n",
    "        transformation = {\n",
    "            'width' : max_photo_resolution,\n",
    "            'height' : max_photo_resolution,\n",
    "            'crop' : 'limit'\n",
    "        }\n",
    "\n",
    "    is_ok_size = False\n",
    "\n",
    "    quality = 80\n",
    "    # progressively reduce quality until we hit target\n",
    "    while not is_ok_size:\n",
    "        print('uploading, ', end = \"\")\n",
    "        cloudinary_image = cloudinary.uploader.upload_image(original_url)\n",
    "        compressed_url = cloudinary_image.build_url(quality=quality, transformation=transformation)\n",
    "        print('downloading, ', end = \"\")\n",
    "        response = requests.get(compressed_url)\n",
    "        if response.status_code != 200:\n",
    "            raise \"HTTP error on getting compressed image\"\n",
    "        new_size = len(response.content)\n",
    "        is_ok_size = new_size <= max_photo_size\n",
    "\n",
    "        quality -= 5\n",
    "\n",
    "    print(photo['filename'])\n",
    "    print(\"{0} MB -> {1} MB\".format(round(photo['size'] / 1000000, 2), round(new_size / 1000000, 2)))\n",
    "    \n",
    "    return compressed_url"
   ]
  },
  {
   "cell_type": "markdown",
   "metadata": {},
   "source": [
    "## Perform on all images"
   ]
  },
  {
   "cell_type": "code",
   "execution_count": null,
   "metadata": {},
   "outputs": [],
   "source": [
    "done = False\n",
    "images_per_row = {}\n",
    "\n",
    "index = 0\n",
    "for records in table.iterate():\n",
    "    for row in records:\n",
    "        index = index + 1\n",
    "\n",
    "        if source_field in row['fields']:\n",
    "            new_attachments = []\n",
    "            any_conversions = False\n",
    "\n",
    "            print(index)\n",
    "\n",
    "            if target_field in row['fields'] and ignore_when_output_populated:\n",
    "                continue\n",
    "            \n",
    "            for photo in row['fields'][source_field]:\n",
    "                original_url = photo['url']\n",
    "                if photo['size'] > max_photo_size:\n",
    "                    any_conversions = True        \n",
    "                    try:\n",
    "                        converted_url = reduce_image_size_cloudinary(photo)\n",
    "                        new_attachments.append(utils.attachment(converted_url, filename=photo['filename']))\n",
    "                    except BaseException as error:\n",
    "                        print(\"Failed : \", error)\n",
    "                        new_attachments.append(utils.attachment(original_url, filename=photo['filename']))\n",
    "                else:\n",
    "                    new_attachments.append(utils.attachment(original_url, filename=photo['filename']))\n",
    "            \n",
    "            # seems they get listed in reverse order\n",
    "            new_attachments.reverse()\n",
    "            \n",
    "            if any_conversions and name_field in row['fields']:\n",
    "                print(row['fields'][name_field])\n",
    "            \n",
    "            if len(new_attachments) > 0:\n",
    "                id = row['id']\n",
    "                images_per_row[id] = new_attachments\n",
    "                update_result = table.update(id, { target_field : new_attachments})"
   ]
  },
  {
   "cell_type": "code",
   "execution_count": 22,
   "metadata": {},
   "outputs": [
    {
     "name": "stdout",
     "output_type": "stream",
     "text": [
      "Prior total file size :  1850900547\n",
      "New total file size :  1083553219\n"
     ]
    },
    {
     "data": {
      "text/plain": [
       "[Text(0.5, 1.0, 'New file sizes [MB]')]"
      ]
     },
     "execution_count": 22,
     "metadata": {},
     "output_type": "execute_result"
    },
    {
     "data": {
      "image/png": "[encoded data removed]",
      "text/plain": [
       "<Figure size 432x288 with 2 Axes>"
      ]
     },
     "metadata": {
      "needs_background": "light"
     },
     "output_type": "display_data"
    }
   ],
   "source": [
    "new_file_sizes = []\n",
    "\n",
    "for records in table.iterate():\n",
    "    for row in records:\n",
    "        if source_field in row['fields']:\n",
    "            for photo in row['fields'][target_field]:\n",
    "                new_file_sizes.append(photo['size'])\n",
    "                \n",
    "print(\"Prior total file size : \", sum(file_sizes))\n",
    "print(\"New total file size : \", sum(new_file_sizes))\n",
    "\n",
    "fig, axes = plt.subplots(1, 2)\n",
    "seaborn.histplot(data=file_sizes, ax=axes[0]).set(title=\"Prior file sizes [MB]\")\n",
    "seaborn.histplot(data=new_file_sizes, ax=axes[1]).set(title=\"New file sizes [MB]\")"
   ]
  },
  {
   "cell_type": "code",
   "execution_count": null,
   "metadata": {},
   "outputs": [],
   "source": []
  }
 ],
 "metadata": {
  "interpreter": {
   "hash": "4989eb9f104dffa96e2bc7d30d999ff98cacf2d192067d460305b5d8e987fd8c"
  },
  "kernelspec": {
   "display_name": "Python 3.9.7 ('base')",
   "language": "python",
   "name": "python3"
  },
  "language_info": {
   "codemirror_mode": {
    "name": "ipython",
    "version": 3
   },
   "file_extension": ".py",
   "mimetype": "text/x-python",
   "name": "python",
   "nbconvert_exporter": "python",
   "pygments_lexer": "ipython3",
   "version": "3.9.7"
  },
  "orig_nbformat": 4
 },
 "nbformat": 4,
 "nbformat_minor": 2
}
